{
 "cells": [
  {
   "cell_type": "code",
   "execution_count": null,
   "id": "b047068a-ef40-460b-a3b8-4a5272432628",
   "metadata": {},
   "outputs": [],
   "source": [
    "import numpy as np\n",
    "import pandas as pd\n",
    "import plotly.express as px\n",
    "import plotly.graph_objects as go\n",
    "import plotly.io as pio\n",
    "pio.kaleido.scope.mathjax = None"
   ]
  },
  {
   "cell_type": "code",
   "execution_count": null,
   "id": "de56c79a-60cf-44b2-9c96-fe89bbd46c8d",
   "metadata": {},
   "outputs": [],
   "source": [
    "FIG_PATH = \"./figures/\""
   ]
  },
  {
   "cell_type": "code",
   "execution_count": null,
   "id": "fd1539ed-74eb-4c67-93dc-2c2c441c8d5b",
   "metadata": {},
   "outputs": [],
   "source": [
    "DATA_PATH = \"./\""
   ]
  },
  {
   "cell_type": "code",
   "execution_count": null,
   "id": "39c53580-50af-4abf-9851-1f432231efa9",
   "metadata": {},
   "outputs": [],
   "source": [
    "summary_jobs = np.load(DATA_PATH + \"summary_jobs.npy\")"
   ]
  },
  {
   "cell_type": "code",
   "execution_count": null,
   "id": "27a98c76-98d8-4f36-b481-7a1322d74301",
   "metadata": {},
   "outputs": [],
   "source": [
    "all_unique_states, all_state_counts = np.unique(summary_jobs[\"state\"], return_counts=True)"
   ]
  },
  {
   "cell_type": "code",
   "execution_count": null,
   "id": "22db63bb-f446-4aa1-aad6-597ba252d747",
   "metadata": {},
   "outputs": [],
   "source": [
    "_, idx = np.unique(summary_jobs[\"job_id\"], return_index=True)\n",
    "unique_jobs = summary_jobs[np.sort(idx)]"
   ]
  },
  {
   "cell_type": "markdown",
   "id": "13d2a640-6bde-457d-9a68-2e5ebaa2c03f",
   "metadata": {},
   "source": [
    "## 1.) Job Breakdown By Status"
   ]
  },
  {
   "cell_type": "code",
   "execution_count": null,
   "id": "cb5c18e5-4def-4096-9611-6d4e71f8abca",
   "metadata": {},
   "outputs": [],
   "source": [
    "unique_states, unique_counts = np.unique(unique_jobs[\"state\"], return_counts=True)"
   ]
  },
  {
   "cell_type": "code",
   "execution_count": null,
   "id": "83c3958e-0f85-4c02-a0ce-3b077d20733e",
   "metadata": {},
   "outputs": [],
   "source": [
    "fig = go.Figure(data=[go.Pie(labels=unique_states, values=unique_counts, text=unique_states, textposition=\"outside\", sort=False)])\n",
    "fig.update_layout(title = \"Distribution of All Jobs by Status (N = 8571)\")\n",
    "fig.write_image(FIG_PATH + \"jobs_by_status.pdf\")"
   ]
  },
  {
   "cell_type": "markdown",
   "id": "7a2da2c6-aa79-4863-a48e-2ae6c30442a1",
   "metadata": {},
   "source": [
    "## 2.) Job Breakdown By Status + Duration"
   ]
  },
  {
   "cell_type": "code",
   "execution_count": null,
   "id": "2ce01851-70a4-4c86-b7d7-99b54149e1c7",
   "metadata": {},
   "outputs": [],
   "source": [
    "def create_duration_chart(unique_jobs, job_state):\n",
    "    jobs_by_state = unique_jobs[unique_jobs[\"state\"] == job_state]\n",
    "    elapsed_time_sec = (jobs_by_state[\"elapsed_time\"] / 1e9).astype(\"int\")\n",
    "    \n",
    "    mins = 60\n",
    "    hour = 60 * mins\n",
    "    day = 24 * hour\n",
    "    week = 7 * day\n",
    "    elapsed_hist, edges = np.histogram(elapsed_time_sec, bins=[0, mins, 10 * mins, 30 * mins, hour, 2 * hour, 6 * hour, day, week])\n",
    "\n",
    "    bin_names = [\" < 1 min\", \"1 - 10 min\", \"10 - 30 min\", \"30 min - 1 hour\", \"1 - 2 hours\", \"2 - 6 hours\", \"6 hours to 1 day\", \"1 day to 1 week\"]\n",
    "\n",
    "    fig = go.Figure(data=[go.Pie(labels=bin_names, values=elapsed_hist, text=bin_names, direction=\"clockwise\", textposition=\"outside\", sort=False)])\n",
    "    fig.update_layout(title = \n",
    "                          {\n",
    "                            \"text\": f\"{job_state} Jobs by Duration<br><br>N = {len(jobs_by_state)}<br>\", \n",
    "                            \"yanchor\": \"top\"\n",
    "                          },\n",
    "                      margin =\n",
    "                         {\n",
    "                             \"t\": 200\n",
    "                         })\n",
    "    return fig"
   ]
  },
  {
   "cell_type": "code",
   "execution_count": null,
   "id": "58a1a179-0fc6-4056-b245-28fba6d8e605",
   "metadata": {},
   "outputs": [],
   "source": [
    "duration_figs = {}\n",
    "for s in unique_states:\n",
    "    duration_figs[s] = create_duration_chart(unique_jobs, s)"
   ]
  },
  {
   "cell_type": "code",
   "execution_count": null,
   "id": "faaa420f-7777-4981-b362-fe44401005d7",
   "metadata": {},
   "outputs": [],
   "source": [
    "DURATION_FIG_PATH = FIG_PATH + \"jobs_by_duration/\""
   ]
  },
  {
   "cell_type": "code",
   "execution_count": null,
   "id": "f097104e-657c-424d-89f3-2decb5fc3b39",
   "metadata": {},
   "outputs": [],
   "source": [
    "for state, fig in duration_figs.items():\n",
    "    fig.write_image(DURATION_FIG_PATH + state + \".pdf\")"
   ]
  },
  {
   "cell_type": "markdown",
   "id": "ff882ebb-54dc-45e8-a6db-cc610d4cd196",
   "metadata": {},
   "source": [
    "## 3.) Job Breakdown By Requested Resources"
   ]
  },
  {
   "cell_type": "code",
   "execution_count": null,
   "id": "cc050ed1-96be-4e1e-91fa-4925d1a00a64",
   "metadata": {},
   "outputs": [],
   "source": [
    "REQUESTED_RESOURCE_FIG_PATH = FIG_PATH + \"jobs_by_req_resources/\""
   ]
  },
  {
   "cell_type": "code",
   "execution_count": null,
   "id": "c1d795f5-3db4-4820-a652-b801212a1a8e",
   "metadata": {},
   "outputs": [],
   "source": [
    "n_nodes, n_jobs_by_req_nodes = np.unique(unique_jobs[\"n_nodes\"], return_counts=True)"
   ]
  },
  {
   "cell_type": "code",
   "execution_count": null,
   "id": "2e8ba2bd-87c3-4965-bfe1-320333e6e55b",
   "metadata": {},
   "outputs": [],
   "source": [
    "by_req_nodes_fig = go.Figure(go.Bar(x=[str(n) for n in n_nodes], y=n_jobs_by_req_nodes, text=n_jobs_by_req_nodes, marker_color=\"black\"))\n",
    "by_req_nodes_fig.update_layout(title=\"Job Breakdown by Requested # Nodes\", xaxis_title=\"# Nodes\", yaxis_title=\"# Jobs\")\n",
    "by_req_nodes_fig.write_image(REQUESTED_RESOURCE_FIG_PATH + \"number_nodes.pdf\")"
   ]
  },
  {
   "cell_type": "code",
   "execution_count": null,
   "id": "bb501207-cca3-4cd6-83b7-160973b10cdc",
   "metadata": {},
   "outputs": [],
   "source": [
    "n_total_gpus = unique_jobs[\"n_nodes\"] * unique_jobs[\"n_gpus\"]\n",
    "total_gpus, n_jobs_by_req_total_gpus = np.unique(n_total_gpus, return_counts=True)"
   ]
  },
  {
   "cell_type": "code",
   "execution_count": null,
   "id": "2b9573e3-01f4-4954-b7f9-4d59ad55ea0c",
   "metadata": {},
   "outputs": [],
   "source": [
    "by_req_total_gpus_fig = go.Figure(go.Bar(x=[str(n) for n in total_gpus], y=n_jobs_by_req_total_gpus, text=n_jobs_by_req_total_gpus, marker_color=\"goldenrod\"))\n",
    "by_req_total_gpus_fig.update_layout(title=\"Job Breakdown by Requested Total # GPUs\", xaxis_title=\"# GPUs\", yaxis_title=\"# Jobs\")\n",
    "by_req_total_gpus_fig.write_image(REQUESTED_RESOURCE_FIG_PATH + \"total_gpus.pdf\")"
   ]
  },
  {
   "cell_type": "markdown",
   "id": "90ac95a4-7d9d-43eb-942e-2b95125b5d96",
   "metadata": {},
   "source": [
    "## 4.) Cluster-Wide Metric Analysis"
   ]
  },
  {
   "cell_type": "code",
   "execution_count": null,
   "id": "225186f9-94ab-43a7-baf4-0fe677acde14",
   "metadata": {},
   "outputs": [],
   "source": [
    "summary_gpu = np.load(DATA_PATH + \"summary_gpu.npy\")"
   ]
  },
  {
   "cell_type": "code",
   "execution_count": null,
   "id": "cfbc19d8-6399-419d-b4fd-b48e7ea45797",
   "metadata": {},
   "outputs": [],
   "source": [
    "summary_cpu = np.load(DATA_PATH + \"summary_cpu.npy\")"
   ]
  },
  {
   "cell_type": "code",
   "execution_count": null,
   "id": "b5c1ea52-5f23-4444-aac2-e9f4192c2778",
   "metadata": {},
   "outputs": [],
   "source": [
    "def generate_histogram(values, title, bins=[0, 10, 20, 30, 40, 50, 60, 70, 80, 90, 100], color=\"blue\", density=False, xaxis_title=None, yaxis_title=None):\n",
    "    if bins:\n",
    "        hist_values, edges = np.histogram(values, bins)\n",
    "    else:\n",
    "        hist_values, edges = np.histogram(values)\n",
    "\n",
    "    if density:\n",
    "        hist_values = [round(hist_values[i] / sum(hist_values), 2) for i in range(len(hist_values))]\n",
    "        \n",
    "    bin_names = [str(round(edges[i])) + \"-\" + str(round(edges[i+1])) for i in range(len(edges) - 1)]\n",
    "    fig = go.Figure(go.Bar(x=bin_names, y=hist_values, text=hist_values, marker_color=color))\n",
    "    fig.update_layout(title = \n",
    "                          {\n",
    "                            \"text\": f\"{title}<br>(N = {len(values)})\", \n",
    "                            \"yanchor\": \"top\"\n",
    "                          })\n",
    "    if xaxis_title:\n",
    "        fig.update_layout(xaxis_title=xaxis_title)\n",
    "    if yaxis_title:\n",
    "        fig.update_layout(yaxis_title=yaxis_title)\n",
    "    \n",
    "    return fig"
   ]
  },
  {
   "cell_type": "code",
   "execution_count": null,
   "id": "f907a4b7-4ee8-43c4-b840-82f6f5ca66b1",
   "metadata": {},
   "outputs": [],
   "source": [
    "fields = [\"gpu_mem_used\", \"smi_util\", \"sm_active\", \"sm_occupancy\", \"tensor_active\", \"dram_active\", \"diff_util_metrics\"]\n",
    "field_text = {\"gpu_mem_used\": \"GPU Memory Usage\", \"smi_util\": \"SMI Utilization\", \"sm_active\": \"SM Active Utilization\", \n",
    "              \"sm_occupancy\": \"SM Occupancy\", \"tensor_active\": \"Tensor Core Utilization\", \"dram_active\": \"Memory BW Utilization\", \"diff_util_metrics\": \"Difference between SMI vs. SM Active Util.\"} \n",
    "field_colors = {\"gpu_mem_used\": \"purple\", \"smi_util\": \"red\", \"sm_active\": \"blue\", \"sm_occupancy\": \"orange\", \"dram_active\": \"green\", \"tensor_active\": \"brown\", \"diff_util_metrics\": \"pink\"}"
   ]
  },
  {
   "cell_type": "markdown",
   "id": "4ea2212b-937e-47f9-bf3d-c32c15efdfc3",
   "metadata": {},
   "source": [
    "#### Just Taking the Whole Cluster's GPU Data with no Filtering"
   ]
  },
  {
   "cell_type": "code",
   "execution_count": null,
   "id": "affb9118-474e-402c-b986-4d16ed144b68",
   "metadata": {},
   "outputs": [],
   "source": [
    "FIELDS_NO_FILTER = FIG_PATH + \"fields_whole_cluster/\""
   ]
  },
  {
   "cell_type": "code",
   "execution_count": null,
   "id": "3ede29a8-4279-4e44-b693-74a4fb625d46",
   "metadata": {},
   "outputs": [],
   "source": [
    "whole_cluster_figures = {}\n",
    "for f in fields:\n",
    "    xaxis_title = field_text[f]\n",
    "    yaxis_title = \"Density\"\n",
    "    fig_title = field_text[f] + \" Cluster-Wide -- No Filtering\"\n",
    "    fig = generate_histogram(summary_gpu[f], title = fig_title, color=field_colors[f], density=True, xaxis_title=xaxis_title, yaxis_title=yaxis_title)\n",
    "    fig.write_image(FIELDS_NO_FILTER + f + \".pdf\")\n",
    "    whole_cluster_figures[f] = fig"
   ]
  },
  {
   "cell_type": "markdown",
   "id": "eb381f12-2165-4f16-a22c-f9bc169da516",
   "metadata": {},
   "source": [
    "#### Whole Cluster GPU Data Non-Idle Times"
   ]
  },
  {
   "cell_type": "code",
   "execution_count": null,
   "id": "e3f8ccd7-ac33-47aa-abc6-c46a827e827c",
   "metadata": {},
   "outputs": [],
   "source": [
    "FIELDS_NON_IDLE = FIG_PATH + \"fields_whole_cluster/non_idle_samples/\""
   ]
  },
  {
   "cell_type": "code",
   "execution_count": null,
   "id": "914454e6-71bf-4ed7-aa49-00771f3e0ca2",
   "metadata": {},
   "outputs": [],
   "source": [
    "non_idle_summary_gpu = summary_gpu[summary_gpu[\"smi_util\"] > 0]"
   ]
  },
  {
   "cell_type": "code",
   "execution_count": null,
   "id": "d9ff3340-58ed-4746-82a1-fad118a55971",
   "metadata": {},
   "outputs": [],
   "source": [
    "for f in fields:\n",
    "    xaxis_title = field_text[f]\n",
    "    yaxis_title = \"Density\"\n",
    "    fig_title = field_text[f] + \" Cluster-Wide -- Filtering for Non-Idle 100ms Intervals\"\n",
    "    fig = generate_histogram(non_idle_summary_gpu[f], title = fig_title, color=field_colors[f], density=True, xaxis_title=xaxis_title, yaxis_title=yaxis_title)\n",
    "    fig.write_image(FIELDS_NON_IDLE + f + \".pdf\")\n",
    "    whole_cluster_figures[f] = fig"
   ]
  },
  {
   "cell_type": "markdown",
   "id": "ca059530-5d2f-4f54-837f-cdb0d7a96af0",
   "metadata": {},
   "source": [
    "## 5.) Metric-Analysis on a Per-Job Basis\n",
    "- Only looking at non-overlapping, completed jobs"
   ]
  },
  {
   "cell_type": "code",
   "execution_count": null,
   "id": "791fee39-a3b8-450d-b9d3-485b7520efbd",
   "metadata": {},
   "outputs": [],
   "source": [
    "completed_job_ids = unique_jobs[unique_jobs[\"state\"] == \"COMPLETED\"][\"job_id\"]"
   ]
  },
  {
   "cell_type": "code",
   "execution_count": null,
   "id": "1bd2745e-b557-4d96-8421-6ae5dcd94f66",
   "metadata": {},
   "outputs": [],
   "source": [
    "len(completed_job_ids)"
   ]
  },
  {
   "cell_type": "markdown",
   "id": "391f25ab-d7e9-4cad-939f-f4a37cb2a235",
   "metadata": {},
   "source": [
    "#### Note:\n",
    "- Not very efficient implemention. Querying corresponding cpu/gpu data per job could be done better\n",
    "- Should take 20-30 sec per job"
   ]
  },
  {
   "cell_type": "code",
   "execution_count": null,
   "id": "f72ca893-2554-4713-b681-b0961993f408",
   "metadata": {},
   "outputs": [],
   "source": [
    "job_data = {}\n",
    "i = 0\n",
    "for job_id in completed_job_ids:\n",
    "    print(f\"On Job #{i}\")\n",
    "    job_data[job_id] = {}\n",
    "    ## get general info\n",
    "    job_info = {}\n",
    "    job_info_row = unique_jobs[unique_jobs[\"job_id\"] == job_id]\n",
    "    job_info[\"user\"] = job_info_row[\"user\"][0]\n",
    "    job_info[\"group\"] = job_info_row[\"group\"][0]\n",
    "    job_info[\"submit_time\"] = job_info_row[\"submit_time\"][0]\n",
    "    job_info[\"queue_time\"] = job_info_row[\"start_time\"][0] - job_info_row[\"submit_time\"][0]\n",
    "    job_info[\"req_nodes\"] = job_info_row[\"n_nodes\"][0]\n",
    "    job_info[\"req_cpus\"] = job_info_row[\"n_cpus\"][0]\n",
    "    job_info[\"req_gpus\"] = job_info_row[\"n_gpus\"][0]\n",
    "    job_info[\"req_mem_mb\"] = job_info_row[\"mem_mb\"][0]\n",
    "    job_info[\"start_time\"] = job_info_row[\"start_time\"][0]\n",
    "    job_info[\"end_time\"] = job_info_row[\"end_time\"][0]\n",
    "    job_info[\"elapsed_time\"] = job_info_row[\"elapsed_time\"][0]\n",
    "    all_nodes = summary_jobs[summary_jobs[\"job_id\"] == job_id][\"node_id\"]\n",
    "    job_info[\"alloc_nodes_list\"] = sorted(list(all_nodes))\n",
    "    job_data[job_id][\"job_info\"] = job_info\n",
    "\n",
    "    ## cpu data that could possibly match\n",
    "    cpu_data = summary_cpu[(summary_cpu[\"timestamp\"] >= job_info[\"start_time\"]) & \n",
    "                            (summary_cpu[\"timestamp\"] <= job_info[\"end_time\"]) & \n",
    "                            (np.isin(summary_cpu[\"node_id\"], job_info[\"alloc_nodes_list\"]))]\n",
    "    job_data[job_id][\"cpu_data\"] = cpu_data\n",
    "\n",
    "    ## gpu data that could possibly match\n",
    "    gpu_data = summary_gpu[(summary_gpu[\"timestamp\"] >= job_info[\"start_time\"]) & \n",
    "                            (summary_gpu[\"timestamp\"] <= job_info[\"end_time\"]) & \n",
    "                            (np.isin(summary_gpu[\"node_id\"], job_info[\"alloc_nodes_list\"]))]\n",
    "    job_data[job_id][\"gpu_data\"] = gpu_data\n",
    "    i += 1"
   ]
  },
  {
   "cell_type": "markdown",
   "id": "89f0fee9-1018-4dcf-b556-99710161edab",
   "metadata": {},
   "source": [
    "#### Only Analyzing Completed Jobs"
   ]
  },
  {
   "cell_type": "code",
   "execution_count": null,
   "id": "ef709981-6194-456c-94a7-841f9b33e13c",
   "metadata": {},
   "outputs": [],
   "source": [
    "all_completed = summary_jobs[summary_jobs[\"state\"] == \"COMPLETED\"]\n",
    "sort_ind = np.argsort(all_completed,order=['end_time', 'start_time', 'node_id'])\n",
    "all_completed_sorted = all_completed[sort_ind]"
   ]
  },
  {
   "cell_type": "code",
   "execution_count": null,
   "id": "2b0433ba-7d56-4577-a3e2-01b2b536b1c0",
   "metadata": {},
   "outputs": [],
   "source": [
    "gpu_job_ids_collected = []\n",
    "for k, v in job_data.items():\n",
    "    gpu_job_ids_collected.append(k)"
   ]
  },
  {
   "cell_type": "code",
   "execution_count": null,
   "id": "aa9663bf-8785-4641-a109-47d5db32685f",
   "metadata": {},
   "outputs": [],
   "source": [
    "gpu_job_collected = all_completed_sorted[np.isin(all_completed_sorted[\"job_id\"], gpu_job_ids_collected)]"
   ]
  },
  {
   "cell_type": "markdown",
   "id": "65885c83-5ecc-431e-9267-1650b9e8eda7",
   "metadata": {},
   "source": [
    "#### Only Keeping Jobs that did not Overlap on the node(s) they ran on"
   ]
  },
  {
   "cell_type": "code",
   "execution_count": null,
   "id": "e43affb4-369e-462c-b8c2-553d9e3b6c94",
   "metadata": {},
   "outputs": [],
   "source": [
    "def determine_gpus(job_data, job_id):\n",
    "    job_entry = job_data[job_id]\n",
    "    num_gpus = job_entry[\"job_info\"][\"req_gpus\"]\n",
    "    return_gpu_ids = {}\n",
    "    if num_gpus == 8:\n",
    "        for n in job_entry[\"job_info\"][\"alloc_nodes_list\"]:\n",
    "            return_gpu_ids[n] = [i for i in range(8)]\n",
    "        return return_gpu_ids\n",
    "        \n",
    "    job_gpu_data = job_entry[\"gpu_data\"]\n",
    "    for n in job_entry[\"job_info\"][\"alloc_nodes_list\"]:\n",
    "        non_idle_times = job_gpu_data[(job_gpu_data[\"node_id\"] == n) & (job_gpu_data[\"smi_util\"] > 0)]\n",
    "        non_idle_dev_ids = np.unique(non_idle_times[\"device_id\"])\n",
    "        if (len(non_idle_dev_ids) < num_gpus):\n",
    "            return None\n",
    "        return_gpu_ids[n] = sorted(list(non_idle_dev_ids))\n",
    "    return return_gpu_ids"
   ]
  },
  {
   "cell_type": "markdown",
   "id": "c91f82a4-c266-42ec-a8f7-dc21f2d0626e",
   "metadata": {},
   "source": [
    "#### Augmenting the \"Job Data\" Dictionary Summarizing Each Job"
   ]
  },
  {
   "cell_type": "code",
   "execution_count": null,
   "id": "c8052c77-2c2f-4778-95d8-3cb2f7b21233",
   "metadata": {},
   "outputs": [],
   "source": [
    "iso_job_ids = set()"
   ]
  },
  {
   "cell_type": "code",
   "execution_count": null,
   "id": "dfc14429-c84a-4d52-9d3f-9eeb9c974ee5",
   "metadata": {},
   "outputs": [],
   "source": [
    "for i in range(37):\n",
    "    node_jobs = gpu_job_collected[gpu_job_collected[\"node_id\"] == i]\n",
    "    end_times = np.pad(node_jobs[\"end_time\"], (1, 0), 'constant')\n",
    "    start_times = np.pad(node_jobs[\"start_time\"], (0, 1), 'constant')\n",
    "    isolated_job_inds = (start_times > end_times)[1:]\n",
    "    iso_jobs = node_jobs[isolated_job_inds][\"job_id\"]\n",
    "    for j in iso_jobs:\n",
    "        iso_job_ids.add((j, i))"
   ]
  },
  {
   "cell_type": "code",
   "execution_count": null,
   "id": "d59acb8e-2bf7-4c7d-ac36-d0e00ecaee90",
   "metadata": {},
   "outputs": [],
   "source": [
    "true_isolated_jobs = []\n",
    "for job_id, info in job_data.items():\n",
    "    all_nodes = info[\"job_info\"][\"alloc_nodes_list\"]\n",
    "    is_isolated = True\n",
    "    for n in all_nodes:\n",
    "        if (job_id, n) not in iso_job_ids:\n",
    "            is_isolated = False\n",
    "            break\n",
    "    info[\"is_isolated\"] = is_isolated\n",
    "    if is_isolated:\n",
    "        true_isolated_jobs.append(job_id)"
   ]
  },
  {
   "cell_type": "code",
   "execution_count": null,
   "id": "621e0721-bd67-4324-857e-caf12f33fe56",
   "metadata": {},
   "outputs": [],
   "source": [
    "jobs_with_detected_dev_ids = {}\n",
    "for job_id in true_isolated_jobs:\n",
    "    dev_ids = determine_gpus(job_data, job_id)\n",
    "    if dev_ids is None:\n",
    "        continue\n",
    "    jobs_with_detected_dev_ids[job_id] = dev_ids"
   ]
  },
  {
   "cell_type": "code",
   "execution_count": null,
   "id": "f6a8a4e8-d563-4794-83b0-323316ee83d5",
   "metadata": {},
   "outputs": [],
   "source": [
    "for job_id, entry in job_data.items():\n",
    "    node_to_gpu_mapping = {}\n",
    "    if job_id in jobs_with_detected_dev_ids:\n",
    "        dev_ids = jobs_with_detected_dev_ids[job_id]\n",
    "        node_to_gpu_mapping = dev_ids\n",
    "    entry[\"job_info\"][\"node_to_gpu_mapping\"] = node_to_gpu_mapping"
   ]
  },
  {
   "cell_type": "code",
   "execution_count": null,
   "id": "5ce2f374-303a-495b-96c8-a0c9f1baa279",
   "metadata": {},
   "outputs": [],
   "source": [
    "for job_id, entry in job_data.items():\n",
    "    node_to_gpu_mapping = entry[\"job_info\"][\"node_to_gpu_mapping\"]\n",
    "    if len(node_to_gpu_mapping) > 0:\n",
    "        orig_gpu_data = entry[\"gpu_data\"]\n",
    "        cur_gpu_data = orig_gpu_data\n",
    "        for node_id, dev_ids in node_to_gpu_mapping.items():\n",
    "            cur_gpu_data = cur_gpu_data[np.logical_or(cur_gpu_data[\"node_id\"] != node_id, np.logical_and(cur_gpu_data[\"node_id\"] == node_id, np.isin(cur_gpu_data[\"device_id\"], dev_ids)))]\n",
    "        entry[\"gpu_data\"] = cur_gpu_data"
   ]
  },
  {
   "cell_type": "code",
   "execution_count": null,
   "id": "206efd2e-a365-4d9e-95cd-e79806202235",
   "metadata": {},
   "outputs": [],
   "source": [
    "for job_id, entry in job_data.items():\n",
    "    node_to_gpu_mapping = entry[\"job_info\"][\"node_to_gpu_mapping\"]\n",
    "    gpu_summary = {}\n",
    "    if len(node_to_gpu_mapping) > 0:\n",
    "        gpu_data = entry[\"gpu_data\"]\n",
    "        if len(gpu_data) > 0:\n",
    "            fields = [\"gpu_mem_used\", \"smi_util\", \"sm_active\", \"sm_occupancy\", \"tensor_active\", \"dram_active\", \"diff_util_metrics\"]\n",
    "            for f in fields:\n",
    "                gpu_summary[f] = {}\n",
    "                gpu_summary[f][\"mean\"] = round(np.mean(gpu_data[f]), 2)\n",
    "                gpu_summary[f][\"var\"] = round(np.var(gpu_data[f]), 2)\n",
    "                gpu_summary[f][\"std\"] = round(np.std(gpu_data[f]), 2)\n",
    "                gpu_summary[f][\"median\"] = round(np.median(gpu_data[f]), 2)\n",
    "    entry[\"summary_gpu_data\"] = gpu_summary"
   ]
  },
  {
   "cell_type": "markdown",
   "id": "97758684-251e-4fb3-bc76-609f771c1df1",
   "metadata": {},
   "source": [
    "#### Building Compacted Structure with Relevant Job + Summary of Metrics"
   ]
  },
  {
   "cell_type": "code",
   "execution_count": null,
   "id": "88ac19db-8c9f-4f01-8ea0-bbdab71a114e",
   "metadata": {},
   "outputs": [],
   "source": [
    "gpu_summary_dtype = [(\"job_id\", np.uint32), (\"job_duration\", \"timedelta64[ns]\"), (\"nodes\", np.uint8), (\"gpus\", np.uint8), (\"cpus\", np.uint8), (\"sys_mem_mb\", np.uint32)]"
   ]
  },
  {
   "cell_type": "code",
   "execution_count": null,
   "id": "a57556dc-35ae-45e9-969d-124074fa5c38",
   "metadata": {},
   "outputs": [],
   "source": [
    "for f in fields:\n",
    "    for v in [\"mean\", \"var\", \"std\", \"median\"]:\n",
    "        gpu_summary_dtype.append((f + \"_\" + v, np.float32))"
   ]
  },
  {
   "cell_type": "code",
   "execution_count": null,
   "id": "bf8f6ec6-031a-40b3-b2d4-aa8d830bd5ad",
   "metadata": {},
   "outputs": [],
   "source": [
    "all_rows = []\n",
    "for job_id, entry in job_data.items():\n",
    "    summary_gpu_data = entry[\"summary_gpu_data\"]\n",
    "    if (len(summary_gpu_data) > 0):\n",
    "        job_info = entry[\"job_info\"]\n",
    "        row = [job_id, job_info[\"elapsed_time\"], job_info[\"req_nodes\"], job_info[\"req_gpus\"], job_info[\"req_cpus\"], job_info[\"req_mem_mb\"]]\n",
    "        for f in fields:\n",
    "            for v in [\"mean\", \"var\", \"std\", \"median\"]:\n",
    "                row.append(summary_gpu_data[f][v])\n",
    "        all_rows.append(row)"
   ]
  },
  {
   "cell_type": "code",
   "execution_count": null,
   "id": "3c03b2c1-8a67-4bdc-aae8-ca7c6a750331",
   "metadata": {},
   "outputs": [],
   "source": [
    "all_row_tuples = [(tuple(r)) for r in all_rows]"
   ]
  },
  {
   "cell_type": "code",
   "execution_count": null,
   "id": "9e593e46-ba4c-4aad-9cae-3ddfec55c1bd",
   "metadata": {},
   "outputs": [],
   "source": [
    "gpu_job_summary = np.array(all_row_tuples, dtype=gpu_summary_dtype)"
   ]
  },
  {
   "cell_type": "markdown",
   "id": "244c7b87-a4e5-4850-9198-3953cff0871b",
   "metadata": {},
   "source": [
    "#### Generating Figures for Fields Broken Down by Job"
   ]
  },
  {
   "cell_type": "code",
   "execution_count": null,
   "id": "c5caf4b5-d5cf-4e13-a1f9-98e51ff9fccc",
   "metadata": {},
   "outputs": [],
   "source": [
    "FIELDS_BY_JOB_FIG_PATH = FIG_PATH + \"fields_by_job/\""
   ]
  },
  {
   "cell_type": "code",
   "execution_count": null,
   "id": "86c84ad5-c3d2-482c-93ff-4101bf3a0e28",
   "metadata": {},
   "outputs": [],
   "source": [
    "stat_text = {\"mean\": \"Average\", \"var\": \"Variance\", \"std\": \"Standard Deviation\", \"median\": \"Median\"}\n",
    "field_by_job_figures = {}\n",
    "for f in fields:\n",
    "    field_by_job_figures[f] = {}\n",
    "    for v in [\"mean\", \"var\", \"std\", \"median\"]:\n",
    "        xaxis_title = stat_text[v] + \" \" + field_text[f]\n",
    "        yaxis_title = \"# Jobs\"\n",
    "        fig_title = xaxis_title + \" by Job\"\n",
    "        ## not in 0-100 scale, so let plot auto decide\n",
    "        if (v == \"var\" or v == \"std\"):\n",
    "            fig = generate_histogram(gpu_job_summary[f + \"_\" + v], fig_title, bins=None, color=field_colors[f], xaxis_title=xaxis_title, yaxis_title=yaxis_title)\n",
    "        else:\n",
    "            fig = generate_histogram(gpu_job_summary[f + \"_\" + v], fig_title, color=field_colors[f], xaxis_title=xaxis_title, yaxis_title=yaxis_title)\n",
    "        fig.write_image(FIELDS_BY_JOB_FIG_PATH + f + \"_\" + v + \".pdf\")\n",
    "        field_by_job_figures[f][v] = fig"
   ]
  }
 ],
 "metadata": {
  "kernelspec": {
   "display_name": "Python 3 (ipykernel)",
   "language": "python",
   "name": "python3"
  },
  "language_info": {
   "codemirror_mode": {
    "name": "ipython",
    "version": 3
   },
   "file_extension": ".py",
   "mimetype": "text/x-python",
   "name": "python",
   "nbconvert_exporter": "python",
   "pygments_lexer": "ipython3",
   "version": "3.12.2"
  }
 },
 "nbformat": 4,
 "nbformat_minor": 5
}
